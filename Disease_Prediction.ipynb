{
  "nbformat": 4,
  "nbformat_minor": 0,
  "metadata": {
    "colab": {
      "provenance": [],
      "mount_file_id": "1amcE91d6oIVm18tT_pPHPJS6of8ttlCL",
      "authorship_tag": "ABX9TyPwiu29LQYcB40gl27/XhVN",
      "include_colab_link": true
    },
    "kernelspec": {
      "name": "python3",
      "display_name": "Python 3"
    },
    "language_info": {
      "name": "python"
    }
  },
  "cells": [
    {
      "cell_type": "markdown",
      "metadata": {
        "id": "view-in-github",
        "colab_type": "text"
      },
      "source": [
        "<a href=\"https://colab.research.google.com/github/IdajiliJohnOjochegbe/Disease-Prediction/blob/main/Disease_Prediction.ipynb\" target=\"_parent\"><img src=\"https://colab.research.google.com/assets/colab-badge.svg\" alt=\"Open In Colab\"/></a>"
      ]
    },
    {
      "cell_type": "code",
      "execution_count": null,
      "metadata": {
        "id": "o0PZbwAPRjck"
      },
      "outputs": [],
      "source": []
    },
    {
      "cell_type": "code",
      "source": [
        "from google.colab import drive\n",
        "drive.mount('/content/drive')"
      ],
      "metadata": {
        "colab": {
          "base_uri": "https://localhost:8080/"
        },
        "id": "IeSj1bPWaxFT",
        "outputId": "c4d68676-f7e5-4ddc-ecef-73b36e1c8df7"
      },
      "execution_count": 1,
      "outputs": [
        {
          "output_type": "stream",
          "name": "stdout",
          "text": [
            "Drive already mounted at /content/drive; to attempt to forcibly remount, call drive.mount(\"/content/drive\", force_remount=True).\n"
          ]
        }
      ]
    },
    {
      "cell_type": "code",
      "source": [
        "import pandas as pd\n",
        "train_data = pd.read_csv('/content/drive/MyDrive/Disease Prediction/Training.csv')\n",
        "test_data = pd.read_csv('/content/drive/MyDrive/Disease Prediction/Testing.csv')\n",
        "print(train_data.head())\n",
        "print(test_data.head())"
      ],
      "metadata": {
        "colab": {
          "base_uri": "https://localhost:8080/"
        },
        "id": "_CWIM4dgayCE",
        "outputId": "e557c5eb-bc54-4e41-f42e-6aae33a84a12"
      },
      "execution_count": 2,
      "outputs": [
        {
          "output_type": "stream",
          "name": "stdout",
          "text": [
            "   itching  skin_rash  nodal_skin_eruptions  continuous_sneezing  shivering  \\\n",
            "0        1          1                     1                    0          0   \n",
            "1        0          1                     1                    0          0   \n",
            "2        1          0                     1                    0          0   \n",
            "3        1          1                     0                    0          0   \n",
            "4        1          1                     1                    0          0   \n",
            "\n",
            "   chills  joint_pain  stomach_pain  acidity  ulcers_on_tongue  ...  scurring  \\\n",
            "0       0           0             0        0                 0  ...         0   \n",
            "1       0           0             0        0                 0  ...         0   \n",
            "2       0           0             0        0                 0  ...         0   \n",
            "3       0           0             0        0                 0  ...         0   \n",
            "4       0           0             0        0                 0  ...         0   \n",
            "\n",
            "   skin_peeling  silver_like_dusting  small_dents_in_nails  \\\n",
            "0             0                    0                     0   \n",
            "1             0                    0                     0   \n",
            "2             0                    0                     0   \n",
            "3             0                    0                     0   \n",
            "4             0                    0                     0   \n",
            "\n",
            "   inflammatory_nails  blister  red_sore_around_nose  yellow_crust_ooze  \\\n",
            "0                   0        0                     0                  0   \n",
            "1                   0        0                     0                  0   \n",
            "2                   0        0                     0                  0   \n",
            "3                   0        0                     0                  0   \n",
            "4                   0        0                     0                  0   \n",
            "\n",
            "          prognosis  Unnamed: 133  \n",
            "0  Fungal infection           NaN  \n",
            "1  Fungal infection           NaN  \n",
            "2  Fungal infection           NaN  \n",
            "3  Fungal infection           NaN  \n",
            "4  Fungal infection           NaN  \n",
            "\n",
            "[5 rows x 134 columns]\n",
            "   itching  skin_rash  nodal_skin_eruptions  continuous_sneezing  shivering  \\\n",
            "0        1          1                     1                    0          0   \n",
            "1        0          0                     0                    1          1   \n",
            "2        0          0                     0                    0          0   \n",
            "3        1          0                     0                    0          0   \n",
            "4        1          1                     0                    0          0   \n",
            "\n",
            "   chills  joint_pain  stomach_pain  acidity  ulcers_on_tongue  ...  \\\n",
            "0       0           0             0        0                 0  ...   \n",
            "1       1           0             0        0                 0  ...   \n",
            "2       0           0             1        1                 1  ...   \n",
            "3       0           0             0        0                 0  ...   \n",
            "4       0           0             1        0                 0  ...   \n",
            "\n",
            "   blackheads  scurring  skin_peeling  silver_like_dusting  \\\n",
            "0           0         0             0                    0   \n",
            "1           0         0             0                    0   \n",
            "2           0         0             0                    0   \n",
            "3           0         0             0                    0   \n",
            "4           0         0             0                    0   \n",
            "\n",
            "   small_dents_in_nails  inflammatory_nails  blister  red_sore_around_nose  \\\n",
            "0                     0                   0        0                     0   \n",
            "1                     0                   0        0                     0   \n",
            "2                     0                   0        0                     0   \n",
            "3                     0                   0        0                     0   \n",
            "4                     0                   0        0                     0   \n",
            "\n",
            "   yellow_crust_ooze            prognosis  \n",
            "0                  0     Fungal infection  \n",
            "1                  0              Allergy  \n",
            "2                  0                 GERD  \n",
            "3                  0  Chronic cholestasis  \n",
            "4                  0        Drug Reaction  \n",
            "\n",
            "[5 rows x 133 columns]\n"
          ]
        }
      ]
    },
    {
      "cell_type": "markdown",
      "source": [
        "# Data exploration and cleaning"
      ],
      "metadata": {
        "id": "NTHK34OpcNkN"
      }
    },
    {
      "cell_type": "markdown",
      "source": [
        "# checking for missing value"
      ],
      "metadata": {
        "id": "MGrzk4HrKHw-"
      }
    },
    {
      "cell_type": "code",
      "source": [
        "print(train_data.isnull().sum())\n",
        "print(test_data.isnull().sum())\n"
      ],
      "metadata": {
        "colab": {
          "base_uri": "https://localhost:8080/"
        },
        "id": "zmGbY-7ubjPS",
        "outputId": "281026bb-615f-4af3-ee80-aa09c8067422"
      },
      "execution_count": 3,
      "outputs": [
        {
          "output_type": "stream",
          "name": "stdout",
          "text": [
            "itching                    0\n",
            "skin_rash                  0\n",
            "nodal_skin_eruptions       0\n",
            "continuous_sneezing        0\n",
            "shivering                  0\n",
            "                        ... \n",
            "blister                    0\n",
            "red_sore_around_nose       0\n",
            "yellow_crust_ooze          0\n",
            "prognosis                  0\n",
            "Unnamed: 133            4920\n",
            "Length: 134, dtype: int64\n",
            "itching                 0\n",
            "skin_rash               0\n",
            "nodal_skin_eruptions    0\n",
            "continuous_sneezing     0\n",
            "shivering               0\n",
            "                       ..\n",
            "inflammatory_nails      0\n",
            "blister                 0\n",
            "red_sore_around_nose    0\n",
            "yellow_crust_ooze       0\n",
            "prognosis               0\n",
            "Length: 133, dtype: int64\n"
          ]
        }
      ]
    },
    {
      "cell_type": "markdown",
      "source": [
        "# drop rows with missing value"
      ],
      "metadata": {
        "id": "OptrmvagKLbw"
      }
    },
    {
      "cell_type": "code",
      "source": [
        "# Drop the extra column from training dataset\n",
        "if 'Unnamed: 133' in train_data.columns:\n",
        "    train_data.drop(columns=['Unnamed: 133'], inplace=True)"
      ],
      "metadata": {
        "id": "szQ63URGljyG"
      },
      "execution_count": 7,
      "outputs": []
    },
    {
      "cell_type": "markdown",
      "source": [
        "# Encode Categorical Variables"
      ],
      "metadata": {
        "id": "s-KhEir0KT4K"
      }
    },
    {
      "cell_type": "code",
      "source": [
        "from sklearn.preprocessing import LabelEncoder\n",
        "\n",
        "label_encoder = LabelEncoder()\n",
        "train_data['prognosis'] = label_encoder.fit_transform(train_data['prognosis'])\n",
        "test_data['prognosis'] = label_encoder.transform(test_data['prognosis'])\n",
        "print(train_data.head())\n",
        "print(test_data.head())\n"
      ],
      "metadata": {
        "id": "hqCkFiirpedQ",
        "colab": {
          "base_uri": "https://localhost:8080/"
        },
        "outputId": "859eaf57-7487-4fed-9a6f-5f0a1c277fe7"
      },
      "execution_count": 9,
      "outputs": [
        {
          "output_type": "stream",
          "name": "stdout",
          "text": [
            "   itching  skin_rash  nodal_skin_eruptions  continuous_sneezing  shivering  \\\n",
            "0        1          1                     1                    0          0   \n",
            "1        0          1                     1                    0          0   \n",
            "2        1          0                     1                    0          0   \n",
            "3        1          1                     0                    0          0   \n",
            "4        1          1                     1                    0          0   \n",
            "\n",
            "   chills  joint_pain  stomach_pain  acidity  ulcers_on_tongue  ...  \\\n",
            "0       0           0             0        0                 0  ...   \n",
            "1       0           0             0        0                 0  ...   \n",
            "2       0           0             0        0                 0  ...   \n",
            "3       0           0             0        0                 0  ...   \n",
            "4       0           0             0        0                 0  ...   \n",
            "\n",
            "   blackheads  scurring  skin_peeling  silver_like_dusting  \\\n",
            "0           0         0             0                    0   \n",
            "1           0         0             0                    0   \n",
            "2           0         0             0                    0   \n",
            "3           0         0             0                    0   \n",
            "4           0         0             0                    0   \n",
            "\n",
            "   small_dents_in_nails  inflammatory_nails  blister  red_sore_around_nose  \\\n",
            "0                     0                   0        0                     0   \n",
            "1                     0                   0        0                     0   \n",
            "2                     0                   0        0                     0   \n",
            "3                     0                   0        0                     0   \n",
            "4                     0                   0        0                     0   \n",
            "\n",
            "   yellow_crust_ooze  prognosis  \n",
            "0                  0         15  \n",
            "1                  0         15  \n",
            "2                  0         15  \n",
            "3                  0         15  \n",
            "4                  0         15  \n",
            "\n",
            "[5 rows x 133 columns]\n",
            "   itching  skin_rash  nodal_skin_eruptions  continuous_sneezing  shivering  \\\n",
            "0        1          1                     1                    0          0   \n",
            "1        0          0                     0                    1          1   \n",
            "2        0          0                     0                    0          0   \n",
            "3        1          0                     0                    0          0   \n",
            "4        1          1                     0                    0          0   \n",
            "\n",
            "   chills  joint_pain  stomach_pain  acidity  ulcers_on_tongue  ...  \\\n",
            "0       0           0             0        0                 0  ...   \n",
            "1       1           0             0        0                 0  ...   \n",
            "2       0           0             1        1                 1  ...   \n",
            "3       0           0             0        0                 0  ...   \n",
            "4       0           0             1        0                 0  ...   \n",
            "\n",
            "   blackheads  scurring  skin_peeling  silver_like_dusting  \\\n",
            "0           0         0             0                    0   \n",
            "1           0         0             0                    0   \n",
            "2           0         0             0                    0   \n",
            "3           0         0             0                    0   \n",
            "4           0         0             0                    0   \n",
            "\n",
            "   small_dents_in_nails  inflammatory_nails  blister  red_sore_around_nose  \\\n",
            "0                     0                   0        0                     0   \n",
            "1                     0                   0        0                     0   \n",
            "2                     0                   0        0                     0   \n",
            "3                     0                   0        0                     0   \n",
            "4                     0                   0        0                     0   \n",
            "\n",
            "   yellow_crust_ooze  prognosis  \n",
            "0                  0         15  \n",
            "1                  0          4  \n",
            "2                  0         16  \n",
            "3                  0          9  \n",
            "4                  0         14  \n",
            "\n",
            "[5 rows x 133 columns]\n"
          ]
        }
      ]
    },
    {
      "cell_type": "markdown",
      "source": [
        "# Feature and target seperation"
      ],
      "metadata": {
        "id": "m3qiOqMkKi4w"
      }
    },
    {
      "cell_type": "code",
      "source": [
        "X_train = train_data.drop('prognosis', axis=1)\n",
        "y_train= train_data['prognosis']\n",
        "X_test = test_data.drop('prognosis', axis=1)\n",
        "y_test = test_data['prognosis']\n",
        "\n"
      ],
      "metadata": {
        "id": "Xzkv-WDaqMB9"
      },
      "execution_count": 10,
      "outputs": []
    },
    {
      "cell_type": "markdown",
      "source": [
        "# scale numerical feature"
      ],
      "metadata": {
        "id": "7NanrdqC8GTZ"
      }
    },
    {
      "cell_type": "code",
      "source": [
        "from sklearn.preprocessing import StandardScaler\n",
        "\n",
        "# Initialize the scaler\n",
        "scaler = StandardScaler()\n",
        "\n",
        "# Fit the scaler on the training data\n",
        "X_train_scaled = scaler.fit_transform(X_train)\n",
        "\n",
        "# Transform the test data using the same scaler\n",
        "X_test_scaled = scaler.transform(X_test)\n",
        "\n"
      ],
      "metadata": {
        "id": "gF0kel2g8UqG"
      },
      "execution_count": 25,
      "outputs": []
    },
    {
      "cell_type": "markdown",
      "source": [
        "# Build and Train the Neural Network Model"
      ],
      "metadata": {
        "id": "5JYFJav0LlJV"
      }
    },
    {
      "cell_type": "markdown",
      "source": [
        "# Define the model"
      ],
      "metadata": {
        "id": "M3_OTq9HM-Zb"
      }
    },
    {
      "cell_type": "markdown",
      "source": [
        "# Train the model"
      ],
      "metadata": {
        "id": "mOKe_eZXNBhO"
      }
    },
    {
      "cell_type": "code",
      "source": [
        "import tensorflow as tf\n",
        "from tensorflow.keras.models import Sequential\n",
        "from tensorflow.keras.layers import Dense\n",
        "\n",
        "# Define the neural network model\n",
        "num_classes = len(y_train.unique())  # Number of unique classes in your target\n",
        "\n",
        "model = Sequential([\n",
        "    Dense(64, activation='relu', input_shape=(X_train.shape[1],)),\n",
        "    Dense(32, activation='relu'),\n",
        "    Dense(num_classes, activation='softmax')  # Number of output classes\n",
        "])\n",
        "\n",
        "# Compile the model\n",
        "model.compile(optimizer='adam',\n",
        "              loss='sparse_categorical_crossentropy',  # Use sparse_categorical_crossentropy for integer labels\n",
        "              metrics=['accuracy'])\n",
        "\n",
        "# Train the model\n",
        "model.fit(X_train_scaled, y_train, epochs=10, batch_size=32, validation_split=0.2)\n",
        "\n",
        "# Evaluate the model on the test set\n",
        "loss, accuracy = model.evaluate(X_test_scaled, y_test)\n",
        "print(f'Test Accuracy: {accuracy}')\n"
      ],
      "metadata": {
        "colab": {
          "base_uri": "https://localhost:8080/"
        },
        "id": "cfkA6K0S-TUR",
        "outputId": "f06d6e28-7b1e-4fc9-edac-f4e9e94ff97e"
      },
      "execution_count": 26,
      "outputs": [
        {
          "output_type": "stream",
          "name": "stdout",
          "text": [
            "Epoch 1/10\n",
            "123/123 [==============================] - 2s 7ms/step - loss: 1.6497 - accuracy: 0.7068 - val_loss: 0.1802 - val_accuracy: 1.0000\n",
            "Epoch 2/10\n",
            "123/123 [==============================] - 0s 3ms/step - loss: 0.0778 - accuracy: 0.9997 - val_loss: 0.0103 - val_accuracy: 1.0000\n",
            "Epoch 3/10\n",
            "123/123 [==============================] - 0s 3ms/step - loss: 0.0155 - accuracy: 1.0000 - val_loss: 0.0035 - val_accuracy: 1.0000\n",
            "Epoch 4/10\n",
            "123/123 [==============================] - 0s 3ms/step - loss: 0.0074 - accuracy: 1.0000 - val_loss: 0.0017 - val_accuracy: 1.0000\n",
            "Epoch 5/10\n",
            "123/123 [==============================] - 0s 3ms/step - loss: 0.0044 - accuracy: 1.0000 - val_loss: 0.0010 - val_accuracy: 1.0000\n",
            "Epoch 6/10\n",
            "123/123 [==============================] - 0s 3ms/step - loss: 0.0030 - accuracy: 1.0000 - val_loss: 6.6391e-04 - val_accuracy: 1.0000\n",
            "Epoch 7/10\n",
            "123/123 [==============================] - 0s 3ms/step - loss: 0.0021 - accuracy: 1.0000 - val_loss: 4.6802e-04 - val_accuracy: 1.0000\n",
            "Epoch 8/10\n",
            "123/123 [==============================] - 0s 3ms/step - loss: 0.0016 - accuracy: 1.0000 - val_loss: 3.4165e-04 - val_accuracy: 1.0000\n",
            "Epoch 9/10\n",
            "123/123 [==============================] - 0s 3ms/step - loss: 0.0012 - accuracy: 1.0000 - val_loss: 2.6085e-04 - val_accuracy: 1.0000\n",
            "Epoch 10/10\n",
            "123/123 [==============================] - 0s 3ms/step - loss: 0.0010 - accuracy: 1.0000 - val_loss: 2.0170e-04 - val_accuracy: 1.0000\n",
            "2/2 [==============================] - 0s 8ms/step - loss: 0.0965 - accuracy: 0.9762\n",
            "Test Accuracy: 0.976190447807312\n"
          ]
        }
      ]
    },
    {
      "cell_type": "code",
      "source": [
        "import matplotlib.pyplot as plt\n",
        "\n",
        "plt.plot(history.history['accuracy'], label='accuracy')\n",
        "plt.plot(history.history['val_accuracy'], label='val_accuracy')\n",
        "plt.xlabel('Epoch')\n",
        "plt.ylabel('Accuracy')\n",
        "plt.legend()\n",
        "plt.show()"
      ],
      "metadata": {
        "id": "_vr-8ZbW2DwG",
        "colab": {
          "base_uri": "https://localhost:8080/",
          "height": 449
        },
        "outputId": "4a23217b-0e06-452d-a0c4-4a677be62426"
      },
      "execution_count": 27,
      "outputs": [
        {
          "output_type": "display_data",
          "data": {
            "text/plain": [
              "<Figure size 640x480 with 1 Axes>"
            ],
            "image/png": "[encoded data removed]"
          },
          "metadata": {}
        }
      ]
    },
    {
      "cell_type": "markdown",
      "source": [
        "# improving model performance"
      ],
      "metadata": {
        "id": "XSe_Yeb9_DA3"
      }
    },
    {
      "cell_type": "code",
      "source": [
        "import pandas as pd\n",
        "from sklearn.preprocessing import StandardScaler\n",
        "import tensorflow as tf\n",
        "from tensorflow.keras.models import Sequential\n",
        "from tensorflow.keras.layers import Dense, Dropout\n",
        "from tensorflow.keras.regularizers import l2\n",
        "from tensorflow.keras.callbacks import EarlyStopping\n",
        "\n",
        "\n",
        "\n",
        "model = Sequential([\n",
        "    Dense(64, activation='relu', input_shape=(X_train.shape[1],), kernel_regularizer=l2(0.01)),\n",
        "    Dropout(0.5),\n",
        "    Dense(32, activation='relu', kernel_regularizer=l2(0.01)),\n",
        "    Dropout(0.5),\n",
        "    Dense(num_classes, activation='softmax')\n",
        "])\n",
        "\n",
        "# Compile the model\n",
        "model.compile(optimizer='adam',\n",
        "              loss='sparse_categorical_crossentropy',\n",
        "              metrics=['accuracy'])\n",
        "\n",
        "# Early stopping callback\n",
        "early_stopping = EarlyStopping(monitor='val_loss', patience=10, restore_best_weights=True)\n",
        "\n",
        "# Train the model with early stopping\n",
        "history = model.fit(X_train_scaled, y_train, epochs=100, batch_size=32, validation_split=0.2, callbacks=[early_stopping])\n",
        "\n",
        "# Evaluate the model on the test set\n",
        "loss, accuracy = model.evaluate(X_test_scaled, y_test)\n",
        "print(f'Test Accuracy: {accuracy}')"
      ],
      "metadata": {
        "colab": {
          "base_uri": "https://localhost:8080/"
        },
        "id": "d8C4kjW17Xv9",
        "outputId": "173ca17f-ba21-43a9-a7ae-9a81b4371784"
      },
      "execution_count": 28,
      "outputs": [
        {
          "output_type": "stream",
          "name": "stdout",
          "text": [
            "Epoch 1/100\n",
            "123/123 [==============================] - 3s 8ms/step - loss: 4.4032 - accuracy: 0.1476 - val_loss: 3.0578 - val_accuracy: 0.8537\n",
            "Epoch 2/100\n",
            "123/123 [==============================] - 1s 5ms/step - loss: 3.1195 - accuracy: 0.4078 - val_loss: 1.8505 - val_accuracy: 0.9756\n",
            "Epoch 3/100\n",
            "123/123 [==============================] - 1s 9ms/step - loss: 2.4581 - accuracy: 0.5442 - val_loss: 1.2582 - val_accuracy: 0.9756\n",
            "Epoch 4/100\n",
            "123/123 [==============================] - 1s 9ms/step - loss: 2.0495 - accuracy: 0.6296 - val_loss: 0.9634 - val_accuracy: 1.0000\n",
            "Epoch 5/100\n",
            "123/123 [==============================] - 2s 13ms/step - loss: 1.8553 - accuracy: 0.6568 - val_loss: 0.8174 - val_accuracy: 1.0000\n",
            "Epoch 6/100\n",
            "123/123 [==============================] - 1s 9ms/step - loss: 1.6743 - accuracy: 0.6964 - val_loss: 0.7230 - val_accuracy: 1.0000\n",
            "Epoch 7/100\n",
            "123/123 [==============================] - 1s 5ms/step - loss: 1.5693 - accuracy: 0.7109 - val_loss: 0.6623 - val_accuracy: 1.0000\n",
            "Epoch 8/100\n",
            "123/123 [==============================] - 0s 3ms/step - loss: 1.4903 - accuracy: 0.7304 - val_loss: 0.6192 - val_accuracy: 1.0000\n",
            "Epoch 9/100\n",
            "123/123 [==============================] - 0s 3ms/step - loss: 1.4250 - accuracy: 0.7345 - val_loss: 0.5791 - val_accuracy: 1.0000\n",
            "Epoch 10/100\n",
            "123/123 [==============================] - 0s 3ms/step - loss: 1.3885 - accuracy: 0.7365 - val_loss: 0.5496 - val_accuracy: 1.0000\n",
            "Epoch 11/100\n",
            "123/123 [==============================] - 0s 3ms/step - loss: 1.3385 - accuracy: 0.7487 - val_loss: 0.5278 - val_accuracy: 1.0000\n",
            "Epoch 12/100\n",
            "123/123 [==============================] - 0s 3ms/step - loss: 1.2993 - accuracy: 0.7591 - val_loss: 0.5129 - val_accuracy: 1.0000\n",
            "Epoch 13/100\n",
            "123/123 [==============================] - 0s 3ms/step - loss: 1.2597 - accuracy: 0.7612 - val_loss: 0.4948 - val_accuracy: 1.0000\n",
            "Epoch 14/100\n",
            "123/123 [==============================] - 0s 3ms/step - loss: 1.2359 - accuracy: 0.7658 - val_loss: 0.4822 - val_accuracy: 1.0000\n",
            "Epoch 15/100\n",
            "123/123 [==============================] - 0s 3ms/step - loss: 1.2159 - accuracy: 0.7660 - val_loss: 0.4704 - val_accuracy: 1.0000\n",
            "Epoch 16/100\n",
            "123/123 [==============================] - 0s 3ms/step - loss: 1.1838 - accuracy: 0.7774 - val_loss: 0.4587 - val_accuracy: 1.0000\n",
            "Epoch 17/100\n",
            "123/123 [==============================] - 0s 3ms/step - loss: 1.1519 - accuracy: 0.7914 - val_loss: 0.4493 - val_accuracy: 1.0000\n",
            "Epoch 18/100\n",
            "123/123 [==============================] - 0s 3ms/step - loss: 1.1455 - accuracy: 0.7891 - val_loss: 0.4416 - val_accuracy: 1.0000\n",
            "Epoch 19/100\n",
            "123/123 [==============================] - 0s 3ms/step - loss: 1.1066 - accuracy: 0.7942 - val_loss: 0.4335 - val_accuracy: 1.0000\n",
            "Epoch 20/100\n",
            "123/123 [==============================] - 0s 3ms/step - loss: 1.0967 - accuracy: 0.7901 - val_loss: 0.4248 - val_accuracy: 1.0000\n",
            "Epoch 21/100\n",
            "123/123 [==============================] - 0s 3ms/step - loss: 1.0722 - accuracy: 0.7983 - val_loss: 0.4212 - val_accuracy: 1.0000\n",
            "Epoch 22/100\n",
            "123/123 [==============================] - 0s 3ms/step - loss: 1.0723 - accuracy: 0.7965 - val_loss: 0.4150 - val_accuracy: 1.0000\n",
            "Epoch 23/100\n",
            "123/123 [==============================] - 0s 3ms/step - loss: 1.0641 - accuracy: 0.8016 - val_loss: 0.4078 - val_accuracy: 1.0000\n",
            "Epoch 24/100\n",
            "123/123 [==============================] - 0s 3ms/step - loss: 1.0408 - accuracy: 0.8079 - val_loss: 0.4021 - val_accuracy: 1.0000\n",
            "Epoch 25/100\n",
            "123/123 [==============================] - 0s 3ms/step - loss: 1.0175 - accuracy: 0.8016 - val_loss: 0.3973 - val_accuracy: 1.0000\n",
            "Epoch 26/100\n",
            "123/123 [==============================] - 0s 3ms/step - loss: 1.0504 - accuracy: 0.7909 - val_loss: 0.3936 - val_accuracy: 1.0000\n",
            "Epoch 27/100\n",
            "123/123 [==============================] - 0s 3ms/step - loss: 0.9916 - accuracy: 0.8056 - val_loss: 0.3882 - val_accuracy: 1.0000\n",
            "Epoch 28/100\n",
            "123/123 [==============================] - 0s 3ms/step - loss: 1.0144 - accuracy: 0.8031 - val_loss: 0.3829 - val_accuracy: 1.0000\n",
            "Epoch 29/100\n",
            "123/123 [==============================] - 0s 3ms/step - loss: 1.0067 - accuracy: 0.8046 - val_loss: 0.3794 - val_accuracy: 1.0000\n",
            "Epoch 30/100\n",
            "123/123 [==============================] - 0s 3ms/step - loss: 0.9432 - accuracy: 0.8321 - val_loss: 0.3739 - val_accuracy: 1.0000\n",
            "Epoch 31/100\n",
            "123/123 [==============================] - 0s 3ms/step - loss: 0.9545 - accuracy: 0.8204 - val_loss: 0.3696 - val_accuracy: 1.0000\n",
            "Epoch 32/100\n",
            "123/123 [==============================] - 0s 3ms/step - loss: 0.9553 - accuracy: 0.8196 - val_loss: 0.3675 - val_accuracy: 1.0000\n",
            "Epoch 33/100\n",
            "123/123 [==============================] - 0s 3ms/step - loss: 0.9436 - accuracy: 0.8232 - val_loss: 0.3635 - val_accuracy: 1.0000\n",
            "Epoch 34/100\n",
            "123/123 [==============================] - 1s 4ms/step - loss: 0.9448 - accuracy: 0.8189 - val_loss: 0.3601 - val_accuracy: 1.0000\n",
            "Epoch 35/100\n",
            "123/123 [==============================] - 1s 5ms/step - loss: 0.9299 - accuracy: 0.8168 - val_loss: 0.3570 - val_accuracy: 1.0000\n",
            "Epoch 36/100\n",
            "123/123 [==============================] - 1s 5ms/step - loss: 0.9104 - accuracy: 0.8222 - val_loss: 0.3508 - val_accuracy: 1.0000\n",
            "Epoch 37/100\n",
            "123/123 [==============================] - 1s 5ms/step - loss: 0.8926 - accuracy: 0.8285 - val_loss: 0.3477 - val_accuracy: 1.0000\n",
            "Epoch 38/100\n",
            "123/123 [==============================] - 1s 4ms/step - loss: 0.8881 - accuracy: 0.8389 - val_loss: 0.3448 - val_accuracy: 1.0000\n",
            "Epoch 39/100\n",
            "123/123 [==============================] - 1s 5ms/step - loss: 0.8820 - accuracy: 0.8354 - val_loss: 0.3431 - val_accuracy: 1.0000\n",
            "Epoch 40/100\n",
            "123/123 [==============================] - 1s 4ms/step - loss: 0.8680 - accuracy: 0.8318 - val_loss: 0.3421 - val_accuracy: 1.0000\n",
            "Epoch 41/100\n",
            "123/123 [==============================] - 1s 5ms/step - loss: 0.8615 - accuracy: 0.8369 - val_loss: 0.3386 - val_accuracy: 1.0000\n",
            "Epoch 42/100\n",
            "123/123 [==============================] - 0s 3ms/step - loss: 0.8573 - accuracy: 0.8354 - val_loss: 0.3342 - val_accuracy: 1.0000\n",
            "Epoch 43/100\n",
            "123/123 [==============================] - 0s 3ms/step - loss: 0.8566 - accuracy: 0.8410 - val_loss: 0.3329 - val_accuracy: 1.0000\n",
            "Epoch 44/100\n",
            "123/123 [==============================] - 0s 3ms/step - loss: 0.8487 - accuracy: 0.8392 - val_loss: 0.3283 - val_accuracy: 1.0000\n",
            "Epoch 45/100\n",
            "123/123 [==============================] - 0s 3ms/step - loss: 0.8408 - accuracy: 0.8351 - val_loss: 0.3277 - val_accuracy: 1.0000\n",
            "Epoch 46/100\n",
            "123/123 [==============================] - 0s 3ms/step - loss: 0.8426 - accuracy: 0.8361 - val_loss: 0.3247 - val_accuracy: 1.0000\n",
            "Epoch 47/100\n",
            "123/123 [==============================] - 0s 3ms/step - loss: 0.8461 - accuracy: 0.8359 - val_loss: 0.3236 - val_accuracy: 1.0000\n",
            "Epoch 48/100\n",
            "123/123 [==============================] - 0s 3ms/step - loss: 0.8241 - accuracy: 0.8488 - val_loss: 0.3204 - val_accuracy: 1.0000\n",
            "Epoch 49/100\n",
            "123/123 [==============================] - 0s 3ms/step - loss: 0.8216 - accuracy: 0.8445 - val_loss: 0.3196 - val_accuracy: 1.0000\n",
            "Epoch 50/100\n",
            "123/123 [==============================] - 0s 3ms/step - loss: 0.8012 - accuracy: 0.8476 - val_loss: 0.3154 - val_accuracy: 1.0000\n",
            "Epoch 51/100\n",
            "123/123 [==============================] - 0s 3ms/step - loss: 0.8046 - accuracy: 0.8458 - val_loss: 0.3137 - val_accuracy: 1.0000\n",
            "Epoch 52/100\n",
            "123/123 [==============================] - 0s 3ms/step - loss: 0.7956 - accuracy: 0.8516 - val_loss: 0.3109 - val_accuracy: 1.0000\n",
            "Epoch 53/100\n",
            "123/123 [==============================] - 0s 3ms/step - loss: 0.8036 - accuracy: 0.8387 - val_loss: 0.3106 - val_accuracy: 1.0000\n",
            "Epoch 54/100\n",
            "123/123 [==============================] - 0s 3ms/step - loss: 0.7900 - accuracy: 0.8524 - val_loss: 0.3091 - val_accuracy: 1.0000\n",
            "Epoch 55/100\n",
            "123/123 [==============================] - 0s 3ms/step - loss: 0.7769 - accuracy: 0.8496 - val_loss: 0.3047 - val_accuracy: 1.0000\n",
            "Epoch 56/100\n",
            "123/123 [==============================] - 0s 3ms/step - loss: 0.7941 - accuracy: 0.8501 - val_loss: 0.3048 - val_accuracy: 1.0000\n",
            "Epoch 57/100\n",
            "123/123 [==============================] - 0s 3ms/step - loss: 0.7696 - accuracy: 0.8580 - val_loss: 0.3030 - val_accuracy: 1.0000\n",
            "Epoch 58/100\n",
            "123/123 [==============================] - 0s 3ms/step - loss: 0.7582 - accuracy: 0.8592 - val_loss: 0.2997 - val_accuracy: 1.0000\n",
            "Epoch 59/100\n",
            "123/123 [==============================] - 0s 3ms/step - loss: 0.7583 - accuracy: 0.8529 - val_loss: 0.2972 - val_accuracy: 1.0000\n",
            "Epoch 60/100\n",
            "123/123 [==============================] - 0s 3ms/step - loss: 0.7641 - accuracy: 0.8516 - val_loss: 0.2962 - val_accuracy: 1.0000\n",
            "Epoch 61/100\n",
            "123/123 [==============================] - 0s 3ms/step - loss: 0.7495 - accuracy: 0.8565 - val_loss: 0.2972 - val_accuracy: 1.0000\n",
            "Epoch 62/100\n",
            "123/123 [==============================] - 0s 3ms/step - loss: 0.7555 - accuracy: 0.8539 - val_loss: 0.2974 - val_accuracy: 1.0000\n",
            "Epoch 63/100\n",
            "123/123 [==============================] - 0s 3ms/step - loss: 0.7539 - accuracy: 0.8575 - val_loss: 0.2933 - val_accuracy: 1.0000\n",
            "Epoch 64/100\n",
            "123/123 [==============================] - 0s 3ms/step - loss: 0.7339 - accuracy: 0.8643 - val_loss: 0.2910 - val_accuracy: 1.0000\n",
            "Epoch 65/100\n",
            "123/123 [==============================] - 0s 3ms/step - loss: 0.7387 - accuracy: 0.8562 - val_loss: 0.2881 - val_accuracy: 1.0000\n",
            "Epoch 66/100\n",
            "123/123 [==============================] - 0s 3ms/step - loss: 0.7351 - accuracy: 0.8641 - val_loss: 0.2864 - val_accuracy: 1.0000\n",
            "Epoch 67/100\n",
            "123/123 [==============================] - 0s 3ms/step - loss: 0.7459 - accuracy: 0.8570 - val_loss: 0.2884 - val_accuracy: 1.0000\n",
            "Epoch 68/100\n",
            "123/123 [==============================] - 0s 3ms/step - loss: 0.6958 - accuracy: 0.8778 - val_loss: 0.2843 - val_accuracy: 1.0000\n",
            "Epoch 69/100\n",
            "123/123 [==============================] - 1s 5ms/step - loss: 0.6988 - accuracy: 0.8714 - val_loss: 0.2829 - val_accuracy: 1.0000\n",
            "Epoch 70/100\n",
            "123/123 [==============================] - 1s 5ms/step - loss: 0.7072 - accuracy: 0.8714 - val_loss: 0.2810 - val_accuracy: 1.0000\n",
            "Epoch 71/100\n",
            "123/123 [==============================] - 1s 5ms/step - loss: 0.7054 - accuracy: 0.8679 - val_loss: 0.2807 - val_accuracy: 1.0000\n",
            "Epoch 72/100\n",
            "123/123 [==============================] - 1s 5ms/step - loss: 0.7129 - accuracy: 0.8679 - val_loss: 0.2782 - val_accuracy: 1.0000\n",
            "Epoch 73/100\n",
            "123/123 [==============================] - 1s 5ms/step - loss: 0.6910 - accuracy: 0.8699 - val_loss: 0.2771 - val_accuracy: 1.0000\n",
            "Epoch 74/100\n",
            "123/123 [==============================] - 1s 5ms/step - loss: 0.7096 - accuracy: 0.8651 - val_loss: 0.2777 - val_accuracy: 1.0000\n",
            "Epoch 75/100\n",
            "123/123 [==============================] - 1s 5ms/step - loss: 0.6874 - accuracy: 0.8714 - val_loss: 0.2746 - val_accuracy: 1.0000\n",
            "Epoch 76/100\n",
            "123/123 [==============================] - 1s 6ms/step - loss: 0.6892 - accuracy: 0.8798 - val_loss: 0.2736 - val_accuracy: 1.0000\n",
            "Epoch 77/100\n",
            "123/123 [==============================] - 1s 8ms/step - loss: 0.6847 - accuracy: 0.8702 - val_loss: 0.2740 - val_accuracy: 1.0000\n",
            "Epoch 78/100\n",
            "123/123 [==============================] - 1s 8ms/step - loss: 0.6886 - accuracy: 0.8699 - val_loss: 0.2735 - val_accuracy: 1.0000\n",
            "Epoch 79/100\n",
            "123/123 [==============================] - 1s 6ms/step - loss: 0.6846 - accuracy: 0.8727 - val_loss: 0.2726 - val_accuracy: 1.0000\n",
            "Epoch 80/100\n",
            "123/123 [==============================] - 1s 6ms/step - loss: 0.6884 - accuracy: 0.8730 - val_loss: 0.2727 - val_accuracy: 1.0000\n",
            "Epoch 81/100\n",
            "123/123 [==============================] - 1s 6ms/step - loss: 0.7019 - accuracy: 0.8656 - val_loss: 0.2721 - val_accuracy: 1.0000\n",
            "Epoch 82/100\n",
            "123/123 [==============================] - 1s 7ms/step - loss: 0.6847 - accuracy: 0.8707 - val_loss: 0.2709 - val_accuracy: 1.0000\n",
            "Epoch 83/100\n",
            "123/123 [==============================] - 1s 7ms/step - loss: 0.6812 - accuracy: 0.8740 - val_loss: 0.2681 - val_accuracy: 1.0000\n",
            "Epoch 84/100\n",
            "123/123 [==============================] - 0s 4ms/step - loss: 0.6759 - accuracy: 0.8770 - val_loss: 0.2677 - val_accuracy: 1.0000\n",
            "Epoch 85/100\n",
            "123/123 [==============================] - 1s 7ms/step - loss: 0.6756 - accuracy: 0.8768 - val_loss: 0.2671 - val_accuracy: 1.0000\n",
            "Epoch 86/100\n",
            "123/123 [==============================] - 1s 6ms/step - loss: 0.6790 - accuracy: 0.8720 - val_loss: 0.2659 - val_accuracy: 1.0000\n",
            "Epoch 87/100\n",
            "123/123 [==============================] - 1s 6ms/step - loss: 0.6596 - accuracy: 0.8847 - val_loss: 0.2652 - val_accuracy: 1.0000\n",
            "Epoch 88/100\n",
            "123/123 [==============================] - 1s 6ms/step - loss: 0.6631 - accuracy: 0.8765 - val_loss: 0.2635 - val_accuracy: 1.0000\n",
            "Epoch 89/100\n",
            "123/123 [==============================] - 1s 7ms/step - loss: 0.6622 - accuracy: 0.8778 - val_loss: 0.2590 - val_accuracy: 1.0000\n",
            "Epoch 90/100\n",
            "123/123 [==============================] - 1s 8ms/step - loss: 0.6692 - accuracy: 0.8692 - val_loss: 0.2590 - val_accuracy: 1.0000\n",
            "Epoch 91/100\n",
            "123/123 [==============================] - 1s 7ms/step - loss: 0.6587 - accuracy: 0.8755 - val_loss: 0.2591 - val_accuracy: 1.0000\n",
            "Epoch 92/100\n",
            "123/123 [==============================] - 1s 5ms/step - loss: 0.6507 - accuracy: 0.8788 - val_loss: 0.2591 - val_accuracy: 1.0000\n",
            "Epoch 93/100\n",
            "123/123 [==============================] - 1s 5ms/step - loss: 0.6388 - accuracy: 0.8806 - val_loss: 0.2564 - val_accuracy: 1.0000\n",
            "Epoch 94/100\n",
            "123/123 [==============================] - 1s 6ms/step - loss: 0.6519 - accuracy: 0.8778 - val_loss: 0.2564 - val_accuracy: 1.0000\n",
            "Epoch 95/100\n",
            "123/123 [==============================] - 1s 5ms/step - loss: 0.6421 - accuracy: 0.8803 - val_loss: 0.2545 - val_accuracy: 1.0000\n",
            "Epoch 96/100\n",
            "123/123 [==============================] - 0s 3ms/step - loss: 0.6458 - accuracy: 0.8758 - val_loss: 0.2540 - val_accuracy: 1.0000\n",
            "Epoch 97/100\n",
            "123/123 [==============================] - 0s 3ms/step - loss: 0.6198 - accuracy: 0.8819 - val_loss: 0.2512 - val_accuracy: 1.0000\n",
            "Epoch 98/100\n",
            "123/123 [==============================] - 0s 3ms/step - loss: 0.6307 - accuracy: 0.8841 - val_loss: 0.2509 - val_accuracy: 1.0000\n",
            "Epoch 99/100\n",
            "123/123 [==============================] - 0s 3ms/step - loss: 0.6571 - accuracy: 0.8727 - val_loss: 0.2507 - val_accuracy: 1.0000\n",
            "Epoch 100/100\n",
            "123/123 [==============================] - 0s 3ms/step - loss: 0.6582 - accuracy: 0.8732 - val_loss: 0.2523 - val_accuracy: 1.0000\n",
            "2/2 [==============================] - 0s 8ms/step - loss: 0.4360 - accuracy: 0.9762\n",
            "Test Accuracy: 0.976190447807312\n"
          ]
        }
      ]
    },
    {
      "cell_type": "code",
      "source": [
        "import matplotlib.pyplot as plt\n",
        "\n",
        "plt.plot(history.history['accuracy'], label='accuracy')\n",
        "plt.plot(history.history['val_accuracy'], label='val_accuracy')\n",
        "plt.xlabel('Epoch')\n",
        "plt.ylabel('Accuracy')\n",
        "plt.legend()\n",
        "plt.show()"
      ],
      "metadata": {
        "colab": {
          "base_uri": "https://localhost:8080/",
          "height": 449
        },
        "id": "giy4JZJJ_dI3",
        "outputId": "6827d584-bcd5-404c-e396-a34597572f1b"
      },
      "execution_count": 37,
      "outputs": [
        {
          "output_type": "display_data",
          "data": {
            "text/plain": [
              "<Figure size 640x480 with 1 Axes>"
            ],
            "image/png": "[encoded data removed]"
          },
          "metadata": {}
        }
      ]
    },
    {
      "cell_type": "code",
      "source": [],
      "metadata": {
        "id": "reXAoxA-CWoL"
      },
      "execution_count": null,
      "outputs": []
    }
  ]
}